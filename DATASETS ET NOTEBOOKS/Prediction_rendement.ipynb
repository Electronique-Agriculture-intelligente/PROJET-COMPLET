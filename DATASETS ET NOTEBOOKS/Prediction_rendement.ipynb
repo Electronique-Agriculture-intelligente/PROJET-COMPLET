{
 "cells": [
  {
   "metadata": {},
   "cell_type": "markdown",
   "source": "# Préparation des données et analyse exploratoire",
   "id": "42417a2da6462b07"
  },
  {
   "metadata": {
    "ExecuteTime": {
     "end_time": "2024-12-02T06:28:04.629987Z",
     "start_time": "2024-12-02T06:28:04.620261Z"
    }
   },
   "cell_type": "code",
   "source": [
    "# Importation des bibliothèques nécessaires\n",
    "import pandas as pd\n",
    "import numpy as np\n",
    "import matplotlib.pyplot as plt\n",
    "import seaborn as sns\n",
    "from django.contrib.admin import display\n",
    "from sklearn.model_selection import train_test_split\n",
    "from sklearn.linear_model import LinearRegression\n",
    "from sklearn.ensemble import RandomForestRegressor\n",
    "from sklearn.metrics import mean_squared_error, r2_score\n",
    "import warnings\n",
    "warnings.filterwarnings(\"ignore\")\n",
    "\n",
    "# Configuration pour les graphiques\n",
    "sns.set(style=\"whitegrid\")"
   ],
   "id": "5704a8c1a95a8cff",
   "outputs": [],
   "execution_count": 5
  },
  {
   "metadata": {
    "ExecuteTime": {
     "end_time": "2024-12-02T06:28:04.702946Z",
     "start_time": "2024-12-02T06:28:04.694300Z"
    }
   },
   "cell_type": "code",
   "source": "#cd C:\\Users\\donfa\\OneDrive\\Desktop\\TP ELECTRONIQUE",
   "id": "a0dc2377808d05eb",
   "outputs": [],
   "execution_count": 6
  },
  {
   "metadata": {
    "ExecuteTime": {
     "end_time": "2024-12-02T06:28:04.841091Z",
     "start_time": "2024-12-02T06:28:04.772918Z"
    }
   },
   "cell_type": "code",
   "source": [
    "import pandas as pd\n",
    "from sklearn.preprocessing import StandardScaler\n",
    "\n",
    "# Chargement des données\n",
    "data = pd.read_csv('Rendement.csv')\n",
    "\n",
    "# Encodage de la colonne catégorique 'Crop' en utilisant One-Hot Encoding\n",
    "data_encoded = pd.get_dummies(data, columns=['Crop'], drop_first=True)\n",
    "\n",
    "# Séparation des caractéristiques (features) et de la cible (target)\n",
    "X = data_encoded.drop(\"Yield\", axis=1)\n",
    "y = data_encoded[\"Yield\"]\n",
    "\n",
    "# Standardisation des données\n",
    "scaler = StandardScaler()\n",
    "\n",
    "X_scaled = scaler.fit_transform(X)\n",
    "sc_y = StandardScaler()\n",
    "#y=sc_y.fit_transform(y)\n",
    "\n",
    "# Conversion en DataFrame pour la lisibilité (optionnel)\n",
    "X_scaled_df = pd.DataFrame(X_scaled, columns=X.columns)\n",
    "data=X_scaled_df\n",
    "# Aperçu des données traitées\n",
    "print(\"Données après encodage et standardisation :\")\n",
    "X_scaled_df.head()\n"
   ],
   "id": "e4e37c4d40532bfd",
   "outputs": [
    {
     "name": "stdout",
     "output_type": "stream",
     "text": [
      "Données après encodage et standardisation :\n"
     ]
    },
    {
     "data": {
      "text/plain": [
       "   Precipitation (mm day-1)  Specific Humidity at 2 Meters (g/kg)  \\\n",
       "0                 -0.823415                             -1.648845   \n",
       "1                 -1.899565                             -2.263223   \n",
       "2                 -0.641042                             -1.341656   \n",
       "3                  0.366865                             -2.024299   \n",
       "4                 -0.491386                             -2.024299   \n",
       "\n",
       "   Relative Humidity at 2 Meters (%)  Temperature at 2 Meters (C)  \\\n",
       "0                          -1.347084                    -0.667109   \n",
       "1                          -2.646141                    -0.282807   \n",
       "2                          -1.961367                     0.216786   \n",
       "3                           0.334641                    -2.396470   \n",
       "4                          -0.622029                    -1.627865   \n",
       "\n",
       "   Crop_Oil palm fruit  Crop_Rice, paddy  Crop_Rubber, natural  \n",
       "0             -0.57735          -0.57735              -0.57735  \n",
       "1             -0.57735          -0.57735              -0.57735  \n",
       "2             -0.57735          -0.57735              -0.57735  \n",
       "3             -0.57735          -0.57735              -0.57735  \n",
       "4             -0.57735          -0.57735              -0.57735  "
      ],
      "text/html": [
       "<div>\n",
       "<style scoped>\n",
       "    .dataframe tbody tr th:only-of-type {\n",
       "        vertical-align: middle;\n",
       "    }\n",
       "\n",
       "    .dataframe tbody tr th {\n",
       "        vertical-align: top;\n",
       "    }\n",
       "\n",
       "    .dataframe thead th {\n",
       "        text-align: right;\n",
       "    }\n",
       "</style>\n",
       "<table border=\"1\" class=\"dataframe\">\n",
       "  <thead>\n",
       "    <tr style=\"text-align: right;\">\n",
       "      <th></th>\n",
       "      <th>Precipitation (mm day-1)</th>\n",
       "      <th>Specific Humidity at 2 Meters (g/kg)</th>\n",
       "      <th>Relative Humidity at 2 Meters (%)</th>\n",
       "      <th>Temperature at 2 Meters (C)</th>\n",
       "      <th>Crop_Oil palm fruit</th>\n",
       "      <th>Crop_Rice, paddy</th>\n",
       "      <th>Crop_Rubber, natural</th>\n",
       "    </tr>\n",
       "  </thead>\n",
       "  <tbody>\n",
       "    <tr>\n",
       "      <th>0</th>\n",
       "      <td>-0.823415</td>\n",
       "      <td>-1.648845</td>\n",
       "      <td>-1.347084</td>\n",
       "      <td>-0.667109</td>\n",
       "      <td>-0.57735</td>\n",
       "      <td>-0.57735</td>\n",
       "      <td>-0.57735</td>\n",
       "    </tr>\n",
       "    <tr>\n",
       "      <th>1</th>\n",
       "      <td>-1.899565</td>\n",
       "      <td>-2.263223</td>\n",
       "      <td>-2.646141</td>\n",
       "      <td>-0.282807</td>\n",
       "      <td>-0.57735</td>\n",
       "      <td>-0.57735</td>\n",
       "      <td>-0.57735</td>\n",
       "    </tr>\n",
       "    <tr>\n",
       "      <th>2</th>\n",
       "      <td>-0.641042</td>\n",
       "      <td>-1.341656</td>\n",
       "      <td>-1.961367</td>\n",
       "      <td>0.216786</td>\n",
       "      <td>-0.57735</td>\n",
       "      <td>-0.57735</td>\n",
       "      <td>-0.57735</td>\n",
       "    </tr>\n",
       "    <tr>\n",
       "      <th>3</th>\n",
       "      <td>0.366865</td>\n",
       "      <td>-2.024299</td>\n",
       "      <td>0.334641</td>\n",
       "      <td>-2.396470</td>\n",
       "      <td>-0.57735</td>\n",
       "      <td>-0.57735</td>\n",
       "      <td>-0.57735</td>\n",
       "    </tr>\n",
       "    <tr>\n",
       "      <th>4</th>\n",
       "      <td>-0.491386</td>\n",
       "      <td>-2.024299</td>\n",
       "      <td>-0.622029</td>\n",
       "      <td>-1.627865</td>\n",
       "      <td>-0.57735</td>\n",
       "      <td>-0.57735</td>\n",
       "      <td>-0.57735</td>\n",
       "    </tr>\n",
       "  </tbody>\n",
       "</table>\n",
       "</div>"
      ]
     },
     "execution_count": 7,
     "metadata": {},
     "output_type": "execute_result"
    }
   ],
   "execution_count": 7
  },
  {
   "metadata": {
    "ExecuteTime": {
     "end_time": "2024-12-02T06:28:05.048580Z",
     "start_time": "2024-12-02T06:28:04.975331Z"
    }
   },
   "cell_type": "code",
   "source": [
    "# Résumé statistique\n",
    "print(\"Résumé statistique :\")\n",
    "data.describe()"
   ],
   "id": "51f821556ac2cedd",
   "outputs": [
    {
     "name": "stdout",
     "output_type": "stream",
     "text": [
      "Résumé statistique :\n"
     ]
    },
    {
     "data": {
      "text/plain": [
       "       Precipitation (mm day-1)  Specific Humidity at 2 Meters (g/kg)  \\\n",
       "count              1.560000e+02                          1.560000e+02   \n",
       "mean               1.231921e-15                         -5.277829e-15   \n",
       "std                1.003221e+00                          1.003221e+00   \n",
       "min               -1.912735e+00                         -2.263223e+00   \n",
       "25%               -6.360164e-01                         -5.907486e-01   \n",
       "50%               -2.147065e-01                          2.284228e-01   \n",
       "75%                8.026274e-01                          6.721406e-01   \n",
       "max                2.077059e+00                          1.696105e+00   \n",
       "\n",
       "       Relative Humidity at 2 Meters (%)  Temperature at 2 Meters (C)  \\\n",
       "count                       1.560000e+02                 1.560000e+02   \n",
       "mean                        9.889525e-15                 4.907755e-15   \n",
       "std                         1.003221e+00                 1.003221e+00   \n",
       "min                        -2.646141e+00                -2.396470e+00   \n",
       "25%                        -6.220290e-01                -6.286791e-01   \n",
       "50%                         1.130962e-01                -2.059466e-01   \n",
       "75%                         7.777299e-01                 4.473673e-01   \n",
       "max                         1.371872e+00                 2.407309e+00   \n",
       "\n",
       "       Crop_Oil palm fruit  Crop_Rice, paddy  Crop_Rubber, natural  \n",
       "count         1.560000e+02      1.560000e+02          1.560000e+02  \n",
       "mean          4.554761e-17     -4.554761e-17         -9.109522e-17  \n",
       "std           1.003221e+00      1.003221e+00          1.003221e+00  \n",
       "min          -5.773503e-01     -5.773503e-01         -5.773503e-01  \n",
       "25%          -5.773503e-01     -5.773503e-01         -5.773503e-01  \n",
       "50%          -5.773503e-01     -5.773503e-01         -5.773503e-01  \n",
       "75%           0.000000e+00      0.000000e+00          0.000000e+00  \n",
       "max           1.732051e+00      1.732051e+00          1.732051e+00  "
      ],
      "text/html": [
       "<div>\n",
       "<style scoped>\n",
       "    .dataframe tbody tr th:only-of-type {\n",
       "        vertical-align: middle;\n",
       "    }\n",
       "\n",
       "    .dataframe tbody tr th {\n",
       "        vertical-align: top;\n",
       "    }\n",
       "\n",
       "    .dataframe thead th {\n",
       "        text-align: right;\n",
       "    }\n",
       "</style>\n",
       "<table border=\"1\" class=\"dataframe\">\n",
       "  <thead>\n",
       "    <tr style=\"text-align: right;\">\n",
       "      <th></th>\n",
       "      <th>Precipitation (mm day-1)</th>\n",
       "      <th>Specific Humidity at 2 Meters (g/kg)</th>\n",
       "      <th>Relative Humidity at 2 Meters (%)</th>\n",
       "      <th>Temperature at 2 Meters (C)</th>\n",
       "      <th>Crop_Oil palm fruit</th>\n",
       "      <th>Crop_Rice, paddy</th>\n",
       "      <th>Crop_Rubber, natural</th>\n",
       "    </tr>\n",
       "  </thead>\n",
       "  <tbody>\n",
       "    <tr>\n",
       "      <th>count</th>\n",
       "      <td>1.560000e+02</td>\n",
       "      <td>1.560000e+02</td>\n",
       "      <td>1.560000e+02</td>\n",
       "      <td>1.560000e+02</td>\n",
       "      <td>1.560000e+02</td>\n",
       "      <td>1.560000e+02</td>\n",
       "      <td>1.560000e+02</td>\n",
       "    </tr>\n",
       "    <tr>\n",
       "      <th>mean</th>\n",
       "      <td>1.231921e-15</td>\n",
       "      <td>-5.277829e-15</td>\n",
       "      <td>9.889525e-15</td>\n",
       "      <td>4.907755e-15</td>\n",
       "      <td>4.554761e-17</td>\n",
       "      <td>-4.554761e-17</td>\n",
       "      <td>-9.109522e-17</td>\n",
       "    </tr>\n",
       "    <tr>\n",
       "      <th>std</th>\n",
       "      <td>1.003221e+00</td>\n",
       "      <td>1.003221e+00</td>\n",
       "      <td>1.003221e+00</td>\n",
       "      <td>1.003221e+00</td>\n",
       "      <td>1.003221e+00</td>\n",
       "      <td>1.003221e+00</td>\n",
       "      <td>1.003221e+00</td>\n",
       "    </tr>\n",
       "    <tr>\n",
       "      <th>min</th>\n",
       "      <td>-1.912735e+00</td>\n",
       "      <td>-2.263223e+00</td>\n",
       "      <td>-2.646141e+00</td>\n",
       "      <td>-2.396470e+00</td>\n",
       "      <td>-5.773503e-01</td>\n",
       "      <td>-5.773503e-01</td>\n",
       "      <td>-5.773503e-01</td>\n",
       "    </tr>\n",
       "    <tr>\n",
       "      <th>25%</th>\n",
       "      <td>-6.360164e-01</td>\n",
       "      <td>-5.907486e-01</td>\n",
       "      <td>-6.220290e-01</td>\n",
       "      <td>-6.286791e-01</td>\n",
       "      <td>-5.773503e-01</td>\n",
       "      <td>-5.773503e-01</td>\n",
       "      <td>-5.773503e-01</td>\n",
       "    </tr>\n",
       "    <tr>\n",
       "      <th>50%</th>\n",
       "      <td>-2.147065e-01</td>\n",
       "      <td>2.284228e-01</td>\n",
       "      <td>1.130962e-01</td>\n",
       "      <td>-2.059466e-01</td>\n",
       "      <td>-5.773503e-01</td>\n",
       "      <td>-5.773503e-01</td>\n",
       "      <td>-5.773503e-01</td>\n",
       "    </tr>\n",
       "    <tr>\n",
       "      <th>75%</th>\n",
       "      <td>8.026274e-01</td>\n",
       "      <td>6.721406e-01</td>\n",
       "      <td>7.777299e-01</td>\n",
       "      <td>4.473673e-01</td>\n",
       "      <td>0.000000e+00</td>\n",
       "      <td>0.000000e+00</td>\n",
       "      <td>0.000000e+00</td>\n",
       "    </tr>\n",
       "    <tr>\n",
       "      <th>max</th>\n",
       "      <td>2.077059e+00</td>\n",
       "      <td>1.696105e+00</td>\n",
       "      <td>1.371872e+00</td>\n",
       "      <td>2.407309e+00</td>\n",
       "      <td>1.732051e+00</td>\n",
       "      <td>1.732051e+00</td>\n",
       "      <td>1.732051e+00</td>\n",
       "    </tr>\n",
       "  </tbody>\n",
       "</table>\n",
       "</div>"
      ]
     },
     "execution_count": 8,
     "metadata": {},
     "output_type": "execute_result"
    }
   ],
   "execution_count": 8
  },
  {
   "metadata": {
    "ExecuteTime": {
     "end_time": "2024-12-02T06:28:05.321416Z",
     "start_time": "2024-12-02T06:28:05.302027Z"
    }
   },
   "cell_type": "code",
   "source": "",
   "id": "62d13545f01bffc8",
   "outputs": [],
   "execution_count": null
  },
  {
   "metadata": {
    "ExecuteTime": {
     "end_time": "2024-12-02T06:28:06.239531Z",
     "start_time": "2024-12-02T06:28:06.215346Z"
    }
   },
   "cell_type": "code",
   "source": [
    "# Vérification des valeurs manquantes\n",
    "print(\"Valeurs manquantes :\")\n",
    "print(data.isnull().sum())\n"
   ],
   "id": "573f717661b9a046",
   "outputs": [
    {
     "name": "stdout",
     "output_type": "stream",
     "text": [
      "Valeurs manquantes :\n",
      "Precipitation (mm day-1)                0\n",
      "Specific Humidity at 2 Meters (g/kg)    0\n",
      "Relative Humidity at 2 Meters (%)       0\n",
      "Temperature at 2 Meters (C)             0\n",
      "Crop_Oil palm fruit                     0\n",
      "Crop_Rice, paddy                        0\n",
      "Crop_Rubber, natural                    0\n",
      "dtype: int64\n"
     ]
    }
   ],
   "execution_count": 9
  },
  {
   "metadata": {
    "ExecuteTime": {
     "end_time": "2024-12-02T06:28:10.341661Z",
     "start_time": "2024-12-02T06:28:07.161056Z"
    }
   },
   "cell_type": "code",
   "source": [
    "# Matrice de corrélation\n",
    "plt.figure(figsize=(8, 6))\n",
    "sns.heatmap(data.corr(), annot=True, cmap=\"coolwarm\", fmt=\".2f\")\n",
    "plt.title(\"Matrice de corrélation\", fontsize=14)\n",
    "plt.show()\n"
   ],
   "id": "39330f37e433edc8",
   "outputs": [
    {
     "data": {
      "text/plain": [
       "<Figure size 800x600 with 2 Axes>"
      ],
      "image/png": "[encoded data removed]"
     },
     "metadata": {},
     "output_type": "display_data"
    }
   ],
   "execution_count": 10
  },
  {
   "metadata": {
    "ExecuteTime": {
     "end_time": "2024-12-02T06:28:10.373432Z",
     "start_time": "2024-12-02T06:28:10.363815Z"
    }
   },
   "cell_type": "code",
   "source": "\n",
   "id": "8bfb779d2b08de7c",
   "outputs": [],
   "execution_count": 10
  },
  {
   "metadata": {
    "ExecuteTime": {
     "end_time": "2024-12-02T06:28:10.465458Z",
     "start_time": "2024-12-02T06:28:10.450152Z"
    }
   },
   "cell_type": "code",
   "source": [
    "# Normalisation des données\n",
    "from sklearn.preprocessing import StandardScaler\n",
    "\n",
    "scaler = StandardScaler()\n",
    "X = X_scaled_df\n",
    "y=y\n",
    "X_scaled = X\n",
    "\n",
    "# Division des données\n",
    "X_train, X_test, y_train, y_test = train_test_split(X_scaled, y, test_size=0.2, random_state=42)\n"
   ],
   "id": "9eaab631f0fe63f8",
   "outputs": [],
   "execution_count": 11
  },
  {
   "metadata": {},
   "cell_type": "markdown",
   "source": "## REGRESSION LINEAIRE",
   "id": "1811e716cf9b2dc"
  },
  {
   "metadata": {
    "ExecuteTime": {
     "end_time": "2024-12-02T06:28:10.538899Z",
     "start_time": "2024-12-02T06:28:10.497087Z"
    }
   },
   "cell_type": "code",
   "source": [
    "# Modèle de régression linéaire\n",
    "lr = LinearRegression()\n",
    "lr.fit(X_train, y_train)\n",
    "\n",
    "# Prédictions et évaluation\n",
    "y_pred = lr.predict(X_test)\n",
    "print(\"Régression linéaire:\")\n",
    "print(\"MSE:\", mean_squared_error(y_test, y_pred))\n",
    "print(\"R2 Score:\", r2_score(y_test, y_pred))\n"
   ],
   "id": "aa8eb5450e170b08",
   "outputs": [
    {
     "name": "stdout",
     "output_type": "stream",
     "text": [
      "Régression linéaire:\n",
      "MSE: 19308693.244844027\n",
      "R2 Score: 0.995022213385473\n"
     ]
    }
   ],
   "execution_count": 12
  },
  {
   "metadata": {},
   "cell_type": "markdown",
   "source": "### ON CONSTATE UN SCORE ENORME ! ET UNE ERREUR PROCHE DE 0",
   "id": "9d07b3995414b7c0"
  },
  {
   "metadata": {},
   "cell_type": "markdown",
   "source": "## RANDOM FOREST",
   "id": "ed7405fc8c3b6da6"
  },
  {
   "metadata": {
    "ExecuteTime": {
     "end_time": "2024-12-02T06:28:11.022594Z",
     "start_time": "2024-12-02T06:28:10.596166Z"
    }
   },
   "cell_type": "code",
   "source": [
    "# Modèle de forêt aléatoire\n",
    "rf = RandomForestRegressor(random_state=42)\n",
    "rf.fit(X_train, y_train)\n",
    "\n",
    "# Prédictions et évaluation\n",
    "y_pred_rf = rf.predict(X_test)\n",
    "print(\"Forêt aléatoire:\")\n",
    "print(\"MSE:\", mean_squared_error(y_test, y_pred_rf))\n",
    "print(\"R2 Score:\", r2_score(y_test, y_pred_rf))\n"
   ],
   "id": "9c721b163b321156",
   "outputs": [
    {
     "name": "stdout",
     "output_type": "stream",
     "text": [
      "Forêt aléatoire:\n",
      "MSE: 23879345.10501562\n",
      "R2 Score: 0.9938438980349353\n"
     ]
    }
   ],
   "execution_count": 13
  },
  {
   "metadata": {},
   "cell_type": "markdown",
   "source": "### ERREUR PLUS GRANDE QU'AVEC LA REGRESSION LINEAIRE",
   "id": "b370de1a920a33f0"
  },
  {
   "metadata": {},
   "cell_type": "markdown",
   "source": "## DESCISION THREE REGRESSOR ",
   "id": "1724e42e04e00e4b"
  },
  {
   "metadata": {
    "ExecuteTime": {
     "end_time": "2024-12-02T06:28:11.117604Z",
     "start_time": "2024-12-02T06:28:11.090038Z"
    }
   },
   "cell_type": "code",
   "source": [
    "# Importation du modèle\n",
    "from sklearn.tree import DecisionTreeRegressor\n",
    "\n",
    "# Initialisation et entraînement du modèle\n",
    "dt = DecisionTreeRegressor(random_state=42)\n",
    "dt.fit(X_train, y_train)\n",
    "\n",
    "# Prédictions et évaluation\n",
    "y_pred_dt = dt.predict(X_test)\n",
    "print(\"Decision Tree Regressor:\")\n",
    "print(\"MSE:\", mean_squared_error(y_test, y_pred_dt))\n",
    "print(\"R2 Score:\", r2_score(y_test, y_pred_dt))\n"
   ],
   "id": "c7462b7d1c1f3f81",
   "outputs": [
    {
     "name": "stdout",
     "output_type": "stream",
     "text": [
      "Decision Tree Regressor:\n",
      "MSE: 28263542.71875\n",
      "R2 Score: 0.9927136506422012\n"
     ]
    }
   ],
   "execution_count": 14
  },
  {
   "metadata": {
    "ExecuteTime": {
     "end_time": "2024-12-02T06:28:11.257331Z",
     "start_time": "2024-12-02T06:28:11.218045Z"
    }
   },
   "cell_type": "code",
   "source": [
    "# Importation des outils pour la transformation polynomiale\n",
    "from sklearn.preprocessing import PolynomialFeatures\n",
    "\n",
    "# Transformation des données avec un degré 2 (par défaut)\n",
    "poly = PolynomialFeatures(degree=2)\n",
    "X_train_poly = poly.fit_transform(X_train)\n",
    "X_test_poly = poly.transform(X_test)\n",
    "\n",
    "# Entraînement du modèle linéaire sur les données transformées\n",
    "lr_poly = LinearRegression()\n",
    "lr_poly.fit(X_train_poly, y_train)\n",
    "\n",
    "# Prédictions et évaluation\n",
    "y_pred_poly = lr_poly.predict(X_test_poly)\n",
    "print(\"Régression polynomiale (degré 2):\")\n",
    "print(\"MSE:\", mean_squared_error(y_test, y_pred_poly))\n",
    "print(\"R2 Score:\", r2_score(y_test, y_pred_poly))\n"
   ],
   "id": "b8f78472214bc98f",
   "outputs": [
    {
     "name": "stdout",
     "output_type": "stream",
     "text": [
      "Régression polynomiale (degré 2):\n",
      "MSE: 85490288.0625\n",
      "R2 Score: 0.9779605794036218\n"
     ]
    }
   ],
   "execution_count": 15
  },
  {
   "metadata": {
    "ExecuteTime": {
     "end_time": "2024-12-02T06:28:11.533068Z",
     "start_time": "2024-12-02T06:28:11.490256Z"
    }
   },
   "cell_type": "code",
   "source": [
    "# Fonction pour calculer l'erreur relative moyenne (MRE)\n",
    "def mean_relative_error(y_true, y_pred):\n",
    "    return np.mean(np.abs((y_true - y_pred) / y_true)) * 100\n",
    "\n",
    "# Calcul des erreurs relatives pour chaque modèle\n",
    "results = {\n",
    "    \"Linear Regression\": {\n",
    "        \"MSE\": mean_squared_error(y_test, y_pred),\n",
    "        \"R2\": r2_score(y_test, y_pred),\n",
    "        \"MRE (%)\": mean_relative_error(y_test, y_pred),\n",
    "    },\n",
    "    \"Random Forest Regressor\": {\n",
    "        \"MSE\": mean_squared_error(y_test, y_pred_rf),\n",
    "        \"R2\": r2_score(y_test, y_pred_rf),\n",
    "        \"MRE (%)\": mean_relative_error(y_test, y_pred_rf),\n",
    "    },\n",
    "    \"Decision Tree Regressor\": {\n",
    "        \"MSE\": mean_squared_error(y_test, y_pred_dt),\n",
    "        \"R2\": r2_score(y_test, y_pred_dt),\n",
    "        \"MRE (%)\": mean_relative_error(y_test, y_pred_dt),\n",
    "    },\n",
    "    \"Polynomial Regression (degree 2)\": {\n",
    "        \"MSE\": mean_squared_error(y_test, y_pred_poly),\n",
    "        \"R2\": r2_score(y_test, y_pred_poly),\n",
    "        \"MRE (%)\": mean_relative_error(y_test, y_pred_poly),\n",
    "    },\n",
    "}\n",
    "\n",
    "# Conversion en DataFrame pour affichage\n",
    "results_df = pd.DataFrame(results).T\n",
    "print(\"Résumé des performances des modèles avec erreur relative:\")\n",
    "display(results_df)\n"
   ],
   "id": "33309596f16fe648",
   "outputs": [
    {
     "name": "stdout",
     "output_type": "stream",
     "text": [
      "Résumé des performances des modèles avec erreur relative:\n"
     ]
    },
    {
     "data": {
      "text/plain": [
       "                                           MSE        R2    MRE (%)\n",
       "Linear Regression                 1.930869e+07  0.995022  14.171390\n",
       "Random Forest Regressor           2.387935e+07  0.993844   7.365145\n",
       "Decision Tree Regressor           2.826354e+07  0.992714  10.834149\n",
       "Polynomial Regression (degree 2)  8.549029e+07  0.977961  45.791802"
      ],
      "text/html": [
       "<div>\n",
       "<style scoped>\n",
       "    .dataframe tbody tr th:only-of-type {\n",
       "        vertical-align: middle;\n",
       "    }\n",
       "\n",
       "    .dataframe tbody tr th {\n",
       "        vertical-align: top;\n",
       "    }\n",
       "\n",
       "    .dataframe thead th {\n",
       "        text-align: right;\n",
       "    }\n",
       "</style>\n",
       "<table border=\"1\" class=\"dataframe\">\n",
       "  <thead>\n",
       "    <tr style=\"text-align: right;\">\n",
       "      <th></th>\n",
       "      <th>MSE</th>\n",
       "      <th>R2</th>\n",
       "      <th>MRE (%)</th>\n",
       "    </tr>\n",
       "  </thead>\n",
       "  <tbody>\n",
       "    <tr>\n",
       "      <th>Linear Regression</th>\n",
       "      <td>1.930869e+07</td>\n",
       "      <td>0.995022</td>\n",
       "      <td>14.171390</td>\n",
       "    </tr>\n",
       "    <tr>\n",
       "      <th>Random Forest Regressor</th>\n",
       "      <td>2.387935e+07</td>\n",
       "      <td>0.993844</td>\n",
       "      <td>7.365145</td>\n",
       "    </tr>\n",
       "    <tr>\n",
       "      <th>Decision Tree Regressor</th>\n",
       "      <td>2.826354e+07</td>\n",
       "      <td>0.992714</td>\n",
       "      <td>10.834149</td>\n",
       "    </tr>\n",
       "    <tr>\n",
       "      <th>Polynomial Regression (degree 2)</th>\n",
       "      <td>8.549029e+07</td>\n",
       "      <td>0.977961</td>\n",
       "      <td>45.791802</td>\n",
       "    </tr>\n",
       "  </tbody>\n",
       "</table>\n",
       "</div>"
      ]
     },
     "metadata": {},
     "output_type": "display_data"
    }
   ],
   "execution_count": 16
  },
  {
   "metadata": {},
   "cell_type": "markdown",
   "source": "# un model de regression Lineaire semble donc etre le bon predicteur",
   "id": "bd013b03da4d4a8b"
  },
  {
   "metadata": {
    "ExecuteTime": {
     "end_time": "2024-12-02T06:28:11.609281Z",
     "start_time": "2024-12-02T06:28:11.586987Z"
    }
   },
   "cell_type": "code",
   "source": [
    "import numpy as np\n",
    "import pandas as pd\n",
    "\n",
    "# Fonction de prédiction spécifique au jeu de données\n",
    "def predict_yield(\n",
    "    model, \n",
    "    scaler_X, \n",
    "    precipitation, \n",
    "    specific_humidity, \n",
    "    relative_humidity, \n",
    "    temperature, \n",
    "    crop=None\n",
    "):\n",
    "    \"\"\"\n",
    "    Prédit le rendement agricole en fonction des données d'entrée spécifiques au jeu de données.\n",
    "\n",
    "    Args:\n",
    "    - model : Modèle entraîné (ex. RandomForestRegressor).\n",
    "    - scaler_X : StandardScaler utilisé pour normaliser les caractéristiques.\n",
    "    - precipitation : Précipitations (mm day-1).\n",
    "    - specific_humidity : Humidité spécifique (g/kg).\n",
    "    - relative_humidity : Humidité relative (%).\n",
    "    - temperature : Température (C).\n",
    "    - crop : Nom de la culture (ex. 'Oil palm fruit', None si aucune culture).\n",
    "\n",
    "    Returns:\n",
    "    - Rendement agricole prédit.\n",
    "    \"\"\"\n",
    "    # Initialisation des données avec les colonnes spécifiques\n",
    "    input_data = {\n",
    "        'Precipitation (mm day-1)': precipitation,\n",
    "        'Specific Humidity at 2 Meters (g/kg)': specific_humidity,\n",
    "        'Relative Humidity at 2 Meters (%)': relative_humidity,\n",
    "        'Temperature at 2 Meters (C)': temperature,\n",
    "        'Crop_Oil palm fruit': 0,\n",
    "        'Crop_Rice, paddy': 0,\n",
    "        'Crop_Rubber, natural': 0,\n",
    "    }\n",
    "\n",
    "    # Si une culture est spécifiée, activer la colonne correspondante\n",
    "    if crop:\n",
    "        encoded_col = f'Crop_{crop}'\n",
    "        if encoded_col in input_data:\n",
    "            input_data[encoded_col] = 1\n",
    "        else:\n",
    "            raise ValueError(f\"La culture '{crop}' n'est pas valide. Choisissez parmi : 'Oil palm fruit', 'Rice, paddy', 'Rubber, natural'.\")\n",
    "\n",
    "    # Conversion en DataFrame pour compatibilité avec le scaler\n",
    "    input_df = pd.DataFrame([input_data])\n",
    "\n",
    "    # Standardisation des données\n",
    "    input_scaled = scaler_X.fit_transform(input_df)\n",
    "\n",
    "    # Prédiction\n",
    "    prediction = model.predict(input_scaled)\n",
    "    return prediction[0]\n"
   ],
   "id": "33e5a5b740e81daa",
   "outputs": [],
   "execution_count": 17
  },
  {
   "metadata": {
    "ExecuteTime": {
     "end_time": "2024-12-02T06:28:11.837428Z",
     "start_time": "2024-12-02T06:28:11.806558Z"
    }
   },
   "cell_type": "code",
   "source": [
    "# Exemple pour 'Oil palm fruit'\n",
    "prediction = predict_yield(\n",
    "    model=rf,\n",
    "    scaler_X=scaler,\n",
    "    precipitation=2000,\n",
    "    specific_humidity=17.5,\n",
    "    relative_humidity=85,\n",
    "    temperature=26,\n",
    "    crop='Oil palm fruit'\n",
    ")\n",
    "print(\"Prédiction du rendement pour 'Oil palm fruit':\", prediction)\n"
   ],
   "id": "3f79b18d4edb908e",
   "outputs": [
    {
     "name": "stdout",
     "output_type": "stream",
     "text": [
      "Prédiction du rendement pour 'Oil palm fruit': 8374.17\n"
     ]
    }
   ],
   "execution_count": 18
  },
  {
   "metadata": {
    "ExecuteTime": {
     "end_time": "2024-12-02T06:28:12.273708Z",
     "start_time": "2024-12-02T06:28:12.005455Z"
    }
   },
   "cell_type": "code",
   "source": "",
   "id": "9d4dbf952ccd4ad",
   "outputs": [],
   "execution_count": 19
  },
  {
   "metadata": {
    "ExecuteTime": {
     "end_time": "2024-12-02T07:14:30.203002Z",
     "start_time": "2024-12-02T07:14:30.115879Z"
    }
   },
   "cell_type": "code",
   "source": [
    "import openmeteo_requests\n",
    "import requests_cache\n",
    "import pandas as pd\n",
    "from retry_requests import retry\n",
    "from sklearn.preprocessing import StandardScaler\n",
    "from datetime import datetime, timedelta\n",
    "\n",
    "# Setup de la session cache et retry\n",
    "cache_session = requests_cache.CachedSession('.cache', expire_after=-1)\n",
    "retry_session = retry(cache_session, retries=5, backoff_factor=0.2)\n",
    "openmeteo = openmeteo_requests.Client(session=retry_session)\n",
    "\n",
    "# Fonction pour récupérer les données météorologiques par intervalles\n",
    "def get_weather_data(latitude, longitude, start_date, end_date):\n",
    "    \"\"\"\n",
    "    Récupère les données météorologiques via Open-Meteo pour une période donnée\n",
    "    en la divisant en intervalles de 7 jours.\n",
    "\n",
    "    Args:\n",
    "    - latitude (float): Latitude de la zone.\n",
    "    - longitude (float): Longitude de la zone.\n",
    "    - start_date (str): Date de début au format \"YYYY-MM-DD\".\n",
    "    - end_date (str): Date de fin au format \"YYYY-MM-DD\".\n",
    "\n",
    "    Retourne :\n",
    "    - DataFrame avec les données climatiques agrégées.\n",
    "    \"\"\"\n",
    "    url = \"https://archive-api.open-meteo.com/v1/archive\"\n",
    "    interval = timedelta(days=7)\n",
    "    start = datetime.fromisoformat(start_date)\n",
    "    end = datetime.fromisoformat(end_date)\n",
    "\n",
    "    all_data = []\n",
    "\n",
    "    while start < end:\n",
    "        interval_end = min(start + interval, end)\n",
    "        params = {\n",
    "            \"latitude\": latitude,\n",
    "            \"longitude\": longitude,\n",
    "            \"start_date\": start.strftime(\"%Y-%m-%d\"),\n",
    "            \"end_date\": interval_end.strftime(\"%Y-%m-%d\"),\n",
    "            \"hourly\": [\"temperature_2m\", \"relative_humidity_2m\", \"precipitation\"],\n",
    "            \"timezone\": \"auto\",\n",
    "        }\n",
    "\n",
    "        # Appel à l'API\n",
    "        response = openmeteo.weather_api(url, params=params)[0]\n",
    "        hourly = response.Hourly()\n",
    "\n",
    "        # Extraction des données\n",
    "        hourly_data = {\n",
    "            \"time\": pd.date_range(\n",
    "                start=pd.to_datetime(hourly.Time(), unit=\"s\", utc=True),\n",
    "                end=pd.to_datetime(hourly.TimeEnd(), unit=\"s\", utc=True),\n",
    "                freq=pd.Timedelta(seconds=hourly.Interval()),\n",
    "                inclusive=\"left\"\n",
    "            ),\n",
    "            \"temperature_2m\": hourly.Variables(0).ValuesAsNumpy(),\n",
    "            \"relative_humidity_2m\": hourly.Variables(1).ValuesAsNumpy(),\n",
    "            \"precipitation\": hourly.Variables(2).ValuesAsNumpy(),\n",
    "        }\n",
    "\n",
    "        df = pd.DataFrame(data=hourly_data)\n",
    "        all_data.append(df)\n",
    "        start = interval_end\n",
    "\n",
    "    # Combiner toutes les données\n",
    "    combined_data = pd.concat(all_data).reset_index(drop=True)\n",
    "    return combined_data\n",
    "\n",
    "# Fonction de prédiction du rendement\n",
    "def predict_yield_from_gps(model, scaler_X, latitude, longitude, start_date, end_date, crop=None):\n",
    "    \"\"\"\n",
    "    Prédit le rendement agricole en fonction des données météorologiques et coordonnées GPS.\n",
    "\n",
    "    Args:\n",
    "    - model : Modèle de machine learning.\n",
    "    - scaler_X : StandardScaler pour normaliser les données.\n",
    "    - latitude (float): Latitude de la zone.\n",
    "    - longitude (float): Longitude de la zone.\n",
    "    - start_date (str): Date de début au format \"YYYY-MM-DD\".\n",
    "    - end_date (str): Date de fin au format \"YYYY-MM-DD\".\n",
    "    - crop (str): Culture (facultatif).\n",
    "\n",
    "    Retourne :\n",
    "    - Rendement prédit (float).\n",
    "    \"\"\"\n",
    "    # Récupérer les données climatiques\n",
    "    weather_data = get_weather_data(latitude, longitude, start_date, end_date)\n",
    "    \n",
    "    # Calculer les moyennes climatiques\n",
    "    avg_temperature = weather_data[\"temperature_2m\"].mean()\n",
    "    avg_precipitation = weather_data[\"precipitation\"].mean()\n",
    "    avg_humidity = weather_data[\"relative_humidity_2m\"].mean()\n",
    "    # afficher les donnes receuillies :\n",
    "    print(f\"avg_temperature: {avg_temperature} \\n avg_precipitation: {avg_precipitation} \\n avg_humidity: {avg_humidity}\")\n",
    "    # Préparer les caractéristiques pour la prédiction\n",
    "    features = {\n",
    "        \"Precipitation (mm day-1)\": avg_precipitation,\n",
    "         \"Specific Humidity at 2 Meters (g/kg)\": avg_humidity,\n",
    "        \"Relative Humidity at 2 Meters (%)\": avg_humidity,\n",
    "        \"Temperature at 2 Meters (C)\": avg_temperature,\n",
    "    }\n",
    "\n",
    "    # Ajouter des variables pour les cultures\n",
    "    if crop:\n",
    "        crop_features = encode_crop(crop)\n",
    "        features.update(crop_features)\n",
    "\n",
    "    # Préparer les données\n",
    "    X_new = pd.DataFrame([features])\n",
    "    # print(\"Colonnes de scaler_X :\", scaler_X.feature_names_in)\n",
    "    # print(\"Colonnes de X_new :\", X_new.columns)\n",
    "    \n",
    "    X_scaled = scaler_X.transform(X_new)\n",
    "    \n",
    "    # Prédiction du rendement\n",
    "    yield_prediction = model.predict(X_scaled)[0]\n",
    "    return yield_prediction\n",
    "\n",
    "# Fonction pour encoder les cultures\n",
    "def encode_crop(crop):\n",
    "    \"\"\"\n",
    "    Encode une culture en One-Hot Encoding.\n",
    "\n",
    "    Args:\n",
    "    - crop (str): Nom de la culture.\n",
    "\n",
    "    Retourne :\n",
    "    - Dict des caractéristiques encodées.\n",
    "    \"\"\"\n",
    "    crops = [\"Oil palm fruit\", \"Rice, paddy\", \"Rubber, natural\"]\n",
    "    return {f\"Crop_{crop_name}\": 1 if crop_name == crop else 0 for crop_name in crops}\n",
    "\n",
    "# Exemple d'utilisation\n",
    "latitude = 18.8566\n",
    "longitude = 2.3522\n",
    "start_date = \"2024-09-01\"\n",
    "end_date = \"2024-10-30\"\n",
    "crop = \"Rice, paddy\"\n",
    "\n",
    "# Modèle de prédiction (Exemple fictif)\n",
    "# Remplacez `rf` et `X_scaled_df` par vos objets réels de modèle et scaler\n",
    "predicted_yield = predict_yield_from_gps(rf, scaler, latitude, longitude, start_date, end_date, crop)\n",
    "print(f\"Rendement prédit : {predicted_yield}\")\n"
   ],
   "id": "bed476b03eca6bc",
   "outputs": [
    {
     "name": "stdout",
     "output_type": "stream",
     "text": [
      "avg_temperature: 31.21160125732422 \n",
      " avg_precipitation: 0.009191176854074001 \n",
      " avg_humidity: 29.631664276123047\n",
      "Rendement prédit : 37829.31\n"
     ]
    }
   ],
   "execution_count": 34
  },
  {
   "metadata": {},
   "cell_type": "markdown",
   "source": [
    "\n",
    "---\n",
    "\n",
    "# README  DERNIERE PARTIE\n",
    "\n",
    "## Description\n",
    "Ce projet prédit le rendement agricole en fonction des données météorologiques et géographiques. Il utilise les coordonnées GPS, une période donnée, et la culture concernée pour récupérer des données climatiques historiques et faire une prédiction via un modèle de machine learning.\n",
    "\n",
    "### Objectifs :\n",
    "1. **Extraire des données climatiques historiques** pour une localisation donnée via l'API Open-Meteo.\n",
    "2. **Prétraiter ces données** pour les adapter au modèle.\n",
    "3. **Faire une prédiction de rendement agricole** avec un modèle entraîné et un scaler.\n",
    "\n",
    "---\n",
    "\n",
    "## Structure du projet\n",
    "\n",
    "### Modules principaux :\n",
    "- **`get_weather_data`** : Récupère les données climatiques historiques.\n",
    "- **`predict_yield_from_gps`** : Fait la prédiction à partir des données récupérées et du modèle.\n",
    "- **`encode_crop`** : Encode la culture sélectionnée avec un encodage One-Hot.\n",
    "  \n",
    "---\n",
    "\n",
    "## Prérequis\n",
    "\n",
    "### Bibliothèques Python :\n",
    "- `openmeteo_requests` : Pour interagir avec l'API Open-Meteo.\n",
    "- `requests_cache` : Pour mettre en cache les requêtes HTTP.\n",
    "- `pandas` : Pour manipuler et analyser les données.\n",
    "- `scikit-learn` : Pour utiliser le scaler et le modèle.\n",
    "- `datetime` et `timedelta` : Pour gérer les dates.\n",
    "\n",
    "Installez les bibliothèques avec :\n",
    "```bash\n",
    "pip install openmeteo_requests requests_cache pandas scikit-learn retry-requests\n",
    "```\n",
    "\n",
    "---\n",
    "\n",
    "## Fonctionnement détaillé\n",
    "\n",
    "### 1. **Données climatiques (`get_weather_data`)**\n",
    "Cette fonction extrait les données météorologiques pour une période donnée, en divisant cette période en intervalles de 7 jours (limitation API).  \n",
    "Les données récupérées incluent :  \n",
    "- Température à 2 mètres (`temperature_2m`, en °C).\n",
    "- Humidité relative à 2 mètres (`relative_humidity_2m`, en %).\n",
    "- Précipitations (`precipitation`, en mm/jour).\n",
    "\n",
    "Les données brutes sont agrégées sous forme de moyennes :\n",
    "```python\n",
    "avg_temperature = weather_data[\"temperature_2m\"].mean()\n",
    "avg_precipitation = weather_data[\"precipitation\"].mean()\n",
    "avg_humidity = weather_data[\"relative_humidity_2m\"].mean()\n",
    "```\n",
    "\n",
    "### 2. **Préparation des données (`predict_yield_from_gps`)**\n",
    "Les moyennes climatiques calculées sont regroupées dans un dictionnaire pour créer les **caractéristiques d'entrée du modèle**.  \n",
    "Exemple :\n",
    "```python\n",
    "features = {\n",
    "    \"Precipitation (mm day-1)\": avg_precipitation,\n",
    "    \"Specific Humidity at 2 Meters (g/kg)\": avg_humidity,\n",
    "    \"Relative Humidity at 2 Meters (%)\": avg_humidity,\n",
    "    \"Temperature at 2 Meters (C)\": avg_temperature,\n",
    "}\n",
    "```\n",
    "\n",
    "#### Ajout des données de la culture :\n",
    "Les cultures sont encodées en utilisant la méthode **One-Hot Encoding**. Par exemple, pour la culture \"Rice, paddy\" :\n",
    "```python\n",
    "{\"Crop_Oil palm fruit\": 0, \"Crop_Rice, paddy\": 1, \"Crop_Rubber, natural\": 0}\n",
    "```\n",
    "\n",
    "Ces valeurs sont ensuite ajoutées à `features`.\n",
    "\n",
    "### 3. **Standardisation des données**\n",
    "Un `StandardScaler` est utilisé pour normaliser les données afin qu'elles soient sur une échelle comparable à celles utilisées pour entraîner le modèle. Cela garantit des prédictions fiables.\n",
    "\n",
    "La standardisation est faite avec :\n",
    "```python\n",
    "X_scaled = scaler_X.transform(X_new)\n",
    "```\n",
    "\n",
    "---\n",
    "\n",
    "## Résultats et interprétation\n",
    "\n",
    "### Exemple de sortie :\n",
    "```plaintext\n",
    "avg_temperature: 31.21 (°C)\n",
    "avg_precipitation: 0.009 (mm/jour)\n",
    "avg_humidity: 29.63 (%)\n",
    "Rendement prédit : 37829.31\n",
    "```\n",
    "\n",
    "- **`avg_temperature`** : Moyenne de la température journalière pendant la période sélectionnée, en °C.\n",
    "- **`avg_precipitation`** : Moyenne des précipitations journalières, en millimètres par jour.\n",
    "- **`avg_humidity`** : Moyenne de l'humidité relative journalière, en %.\n",
    "- **`Rendement prédit`** : Prédiction du rendement agricole. *L'unité dépend de l'entraînement du modèle (ex. : kg/ha, tonnes/ha, etc.).*\n",
    "\n",
    "### Note importante :\n",
    "Pour comprendre l'unité de la prédiction (`37829.31`), il faut vérifier **l'unité de sortie du modèle entraîné** (ex. : kg/ha ou une autre métrique spécifique).\n",
    "\n",
    "---\n",
    "\n",
    "## Variables et personnalisation\n",
    "\n",
    "### Entrées principales :\n",
    "1. **Latitude et Longitude** : Coordonées GPS de la zone d'intérêt.\n",
    "2. **Période (start_date et end_date)** : Plage temporelle pour les données climatiques.\n",
    "3. **Culture (crop)** : Nom de la culture (ex. : `\"Rice, paddy\"`).\n",
    "\n",
    "### Variables de sortie :\n",
    "- Moyennes climatiques.\n",
    "- Rendement prédit.\n",
    "\n",
    "---\n",
    "\n",
    "## Exemple d'utilisation\n",
    "\n",
    "```python\n",
    "latitude = 18.8566\n",
    "longitude = 2.3522\n",
    "start_date = \"2024-09-01\"\n",
    "end_date = \"2024-10-30\"\n",
    "crop = \"Rice, paddy\"\n",
    "\n",
    "predicted_yield = predict_yield_from_gps(rf, scaler, latitude, longitude, start_date, end_date, crop)\n",
    "print(f\"Rendement prédit : {predicted_yield}\")\n",
    "```\n",
    "\n",
    "---\n",
    "\n",
    "## Points importants\n",
    "1. **Modèle et scaler** :\n",
    "   - `rf` : Modèle de machine learning (ex. : Random Forest) préalablement entraîné.\n",
    "   - `scaler` : Scaler standardisé correspondant au jeu de données du modèle.\n",
    "\n",
    "2. **Limites actuelles** :\n",
    "   - Les unités du rendement prédit dépendent de l'entraînement du modèle.\n",
    "   - La précision des données climatiques dépend de l'API Open-Meteo.\n",
    "\n",
    "---\n",
    "\n",
    "## Améliorations possibles\n",
    "1. Ajouter une gestion des erreurs pour les API.\n",
    "2. Vérifier les unités et adapter le modèle pour inclure des métadonnées sur les unités des prédictions.\n",
    "3. Ajouter un visualiseur des données climatiques avant la prédiction.\n",
    "\n"
   ],
   "id": "6bb714c521f0ca5f"
  },
  {
   "metadata": {},
   "cell_type": "code",
   "outputs": [],
   "execution_count": null,
   "source": "",
   "id": "ce6639095c0130ef"
  }
 ],
 "metadata": {
  "kernelspec": {
   "display_name": "Python 3",
   "language": "python",
   "name": "python3"
  },
  "language_info": {
   "codemirror_mode": {
    "name": "ipython",
    "version": 2
   },
   "file_extension": ".py",
   "mimetype": "text/x-python",
   "name": "python",
   "nbconvert_exporter": "python",
   "pygments_lexer": "ipython2",
   "version": "2.7.6"
  }
 },
 "nbformat": 4,
 "nbformat_minor": 5
}
